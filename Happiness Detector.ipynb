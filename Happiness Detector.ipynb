{
 "cells": [
  {
   "cell_type": "code",
   "execution_count": 1,
   "metadata": {},
   "outputs": [],
   "source": [
    "import numpy as np\n",
    "import cv2"
   ]
  },
  {
   "cell_type": "code",
   "execution_count": 2,
   "metadata": {},
   "outputs": [],
   "source": [
    "face_cascade=cv2.CascadeClassifier(cv2.data.haarcascades+'haarcascade_frontalface_default.xml')\n",
    "smile_cascade=cv2.CascadeClassifier(cv2.data.haarcascades+'haarcascade_smile.xml')"
   ]
  },
  {
   "cell_type": "code",
   "execution_count": 3,
   "metadata": {},
   "outputs": [],
   "source": [
    "#firstRead=True\n",
    "cap=cv2.VideoCapture(0)\n",
    "ret,img=cap.read()\n",
    "while(ret):\n",
    "    ret,img=cap.read()\n",
    "    gray=cv2.cvtColor(img,cv2.COLOR_BGR2GRAY)\n",
    "    gray=cv2.bilateralFilter(gray,5,1,1)\n",
    "    faces=face_cascade.detectMultiScale(gray,1.3,5,minSize=(200,200))\n",
    "    if len(faces):\n",
    "        for (x,y,w,h) in faces:\n",
    "            cv2.rectangle(img,(x,y),(x+w,y+h),(0,255,0),2)\n",
    "            roi_img=img[y:y+h,x:x+w]\n",
    "            roi_gray=gray[y:y+h,x:x+w]\n",
    "            smile=smile_cascade.detectMultiScale(gray,1.3,5,minSize=(70,70))\n",
    "            if len(smile):\n",
    "                cv2.putText(img,\"Smile Detected!\",(70,70),cv2.FONT_HERSHEY_PLAIN,3,(0,255,0),2)\n",
    "            else:\n",
    "                cv2.putText(img,\"No Smile Detected!\",(70,70),cv2.FONT_HERSHEY_PLAIN,3,(0,255,0),2)\n",
    "    else:\n",
    "        cv2.putText(img,\"No face found!\",(70,70),cv2.FONT_HERSHEY_PLAIN,3,(0,255,0),2)\n",
    "    \n",
    "    cv2.imshow('img',img)\n",
    "    key=cv2.waitKey(1)\n",
    "    if key==27:\n",
    "        break\n",
    "cap.release()\n",
    "cv2.destroyAllWindows()\n",
    "                \n",
    "                    "
   ]
  },
  {
   "cell_type": "code",
   "execution_count": null,
   "metadata": {},
   "outputs": [],
   "source": []
  }
 ],
 "metadata": {
  "kernelspec": {
   "display_name": "Python 3",
   "language": "python",
   "name": "python3"
  },
  "language_info": {
   "codemirror_mode": {
    "name": "ipython",
    "version": 3
   },
   "file_extension": ".py",
   "mimetype": "text/x-python",
   "name": "python",
   "nbconvert_exporter": "python",
   "pygments_lexer": "ipython3",
   "version": "3.7.3"
  }
 },
 "nbformat": 4,
 "nbformat_minor": 2
}
